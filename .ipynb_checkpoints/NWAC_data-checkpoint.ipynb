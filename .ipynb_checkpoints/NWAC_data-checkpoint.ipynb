{
 "cells": [
  {
   "cell_type": "code",
   "execution_count": 1,
   "metadata": {},
   "outputs": [],
   "source": [
    "import pandas as pd\n",
    "import numpy as np\n",
    "import matplotlib.pyplot as plt\n",
    "\n",
    "%matplotlib inline"
   ]
  },
  {
   "cell_type": "code",
   "execution_count": 2,
   "metadata": {},
   "outputs": [],
   "source": [
    "df3100 = pd.read_csv('AlpentalBase_3100_feet_2019.csv')"
   ]
  },
  {
   "cell_type": "code",
   "execution_count": 3,
   "metadata": {},
   "outputs": [
    {
     "data": {
      "text/html": [
       "<div>\n",
       "<style scoped>\n",
       "    .dataframe tbody tr th:only-of-type {\n",
       "        vertical-align: middle;\n",
       "    }\n",
       "\n",
       "    .dataframe tbody tr th {\n",
       "        vertical-align: top;\n",
       "    }\n",
       "\n",
       "    .dataframe thead th {\n",
       "        text-align: right;\n",
       "    }\n",
       "</style>\n",
       "<table border=\"1\" class=\"dataframe\">\n",
       "  <thead>\n",
       "    <tr style=\"text-align: right;\">\n",
       "      <th></th>\n",
       "      <th>Date/Time (PST)</th>\n",
       "      <th>Battery Voltage (v)</th>\n",
       "      <th>Temperature (deg F)</th>\n",
       "      <th>Relative Humidity (%)</th>\n",
       "      <th>Precipitation (\")</th>\n",
       "      <th>Total Snow Depth (\")</th>\n",
       "      <th>24 Hour Snow (\")</th>\n",
       "    </tr>\n",
       "  </thead>\n",
       "  <tbody>\n",
       "    <tr>\n",
       "      <th>0</th>\n",
       "      <td>2019-12-31 23:00</td>\n",
       "      <td>13.15</td>\n",
       "      <td>40.61</td>\n",
       "      <td>98.7</td>\n",
       "      <td>0.09</td>\n",
       "      <td>21.51</td>\n",
       "      <td>0.450</td>\n",
       "    </tr>\n",
       "    <tr>\n",
       "      <th>1</th>\n",
       "      <td>2019-12-31 22:00</td>\n",
       "      <td>13.14</td>\n",
       "      <td>41.10</td>\n",
       "      <td>99.2</td>\n",
       "      <td>0.06</td>\n",
       "      <td>21.11</td>\n",
       "      <td>0.317</td>\n",
       "    </tr>\n",
       "    <tr>\n",
       "      <th>2</th>\n",
       "      <td>2019-12-31 21:00</td>\n",
       "      <td>13.14</td>\n",
       "      <td>41.10</td>\n",
       "      <td>100.0</td>\n",
       "      <td>0.16</td>\n",
       "      <td>21.31</td>\n",
       "      <td>0.450</td>\n",
       "    </tr>\n",
       "    <tr>\n",
       "      <th>3</th>\n",
       "      <td>2019-12-31 20:00</td>\n",
       "      <td>13.15</td>\n",
       "      <td>40.49</td>\n",
       "      <td>100.0</td>\n",
       "      <td>0.34</td>\n",
       "      <td>21.64</td>\n",
       "      <td>0.450</td>\n",
       "    </tr>\n",
       "    <tr>\n",
       "      <th>4</th>\n",
       "      <td>2019-12-31 19:00</td>\n",
       "      <td>13.15</td>\n",
       "      <td>37.69</td>\n",
       "      <td>99.4</td>\n",
       "      <td>0.21</td>\n",
       "      <td>24.44</td>\n",
       "      <td>0.450</td>\n",
       "    </tr>\n",
       "  </tbody>\n",
       "</table>\n",
       "</div>"
      ],
      "text/plain": [
       "    Date/Time (PST)  Battery Voltage (v)  Temperature (deg F)  \\\n",
       "0  2019-12-31 23:00                13.15                40.61   \n",
       "1  2019-12-31 22:00                13.14                41.10   \n",
       "2  2019-12-31 21:00                13.14                41.10   \n",
       "3  2019-12-31 20:00                13.15                40.49   \n",
       "4  2019-12-31 19:00                13.15                37.69   \n",
       "\n",
       "   Relative Humidity (%)  Precipitation (\")  Total Snow Depth (\")  \\\n",
       "0                   98.7               0.09                 21.51   \n",
       "1                   99.2               0.06                 21.11   \n",
       "2                  100.0               0.16                 21.31   \n",
       "3                  100.0               0.34                 21.64   \n",
       "4                   99.4               0.21                 24.44   \n",
       "\n",
       "   24 Hour Snow (\")  \n",
       "0             0.450  \n",
       "1             0.317  \n",
       "2             0.450  \n",
       "3             0.450  \n",
       "4             0.450  "
      ]
     },
     "execution_count": 3,
     "metadata": {},
     "output_type": "execute_result"
    }
   ],
   "source": [
    "df3100.head()"
   ]
  },
  {
   "cell_type": "code",
   "execution_count": null,
   "metadata": {},
   "outputs": [],
   "source": []
  },
  {
   "cell_type": "code",
   "execution_count": null,
   "metadata": {},
   "outputs": [],
   "source": []
  }
 ],
 "metadata": {
  "kernelspec": {
   "display_name": "Python 3",
   "language": "python",
   "name": "python3"
  },
  "language_info": {
   "codemirror_mode": {
    "name": "ipython",
    "version": 3
   },
   "file_extension": ".py",
   "mimetype": "text/x-python",
   "name": "python",
   "nbconvert_exporter": "python",
   "pygments_lexer": "ipython3",
   "version": "3.7.7"
  }
 },
 "nbformat": 4,
 "nbformat_minor": 4
}
